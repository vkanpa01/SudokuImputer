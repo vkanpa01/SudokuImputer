{
 "cells": [
  {
   "cell_type": "code",
   "execution_count": 34,
   "id": "4d797543-b59a-418e-92db-fa709e933ffe",
   "metadata": {},
   "outputs": [],
   "source": [
    "import pandas as pd\n",
    "import numpy as np\n",
    "from sklearn.datasets import load_iris"
   ]
  },
  {
   "cell_type": "code",
   "execution_count": 51,
   "id": "54736882-4a69-438e-8c4f-fe37f0a51094",
   "metadata": {},
   "outputs": [
    {
     "data": {
      "text/plain": [
       "sepal length (cm)    0\n",
       "sepal width (cm)     0\n",
       "petal length (cm)    0\n",
       "petal width (cm)     0\n",
       "dtype: int64"
      ]
     },
     "execution_count": 51,
     "metadata": {},
     "output_type": "execute_result"
    }
   ],
   "source": [
    "df = load_iris(as_frame=True)['data']\n",
    "df.isna().sum()"
   ]
  },
  {
   "cell_type": "code",
   "execution_count": 38,
   "id": "b2075b99-b36c-47c6-ad25-b3f9d56c3665",
   "metadata": {},
   "outputs": [],
   "source": [
    "def induce_mcar(df, missing_fraction, seed=None):\n",
    "    df_missing = df.copy()\n",
    "    np.random.seed(seed)\n",
    "    mask = np.random.rand(*df.shape) < missing_fraction\n",
    "    df_missing[mask] = np.nan\n",
    "    return df_missing"
   ]
  },
  {
   "cell_type": "code",
   "execution_count": 44,
   "id": "1a72944e-05b3-4f5c-bec3-37e82cf83682",
   "metadata": {},
   "outputs": [
    {
     "data": {
      "text/plain": [
       "sepal length (cm)    0.260000\n",
       "sepal width (cm)     0.200000\n",
       "petal length (cm)    0.213333\n",
       "petal width (cm)     0.213333\n",
       "dtype: float64"
      ]
     },
     "execution_count": 44,
     "metadata": {},
     "output_type": "execute_result"
    }
   ],
   "source": [
    "experimental_dataset = induce_mcar(df, 0.2, seed=None)\n",
    "experimental_dataset.isna().sum()/experimental_dataset.shape[0]"
   ]
  },
  {
   "cell_type": "code",
   "execution_count": 55,
   "id": "9fed7ae3-3135-42d1-8f65-4628efea051d",
   "metadata": {},
   "outputs": [],
   "source": [
    "from graph_imputer import iterative_graph_imputation_final\n",
    "\n",
    "imputed_dataset = iterative_graph_imputation_final(experimental_dataset)\n",
    "imputed_dataset.isna().sum()/imputed_dataset.shape]"
   ]
  }
 ],
 "metadata": {
  "kernelspec": {
   "display_name": "Python 3 (ipykernel)",
   "language": "python",
   "name": "python3"
  },
  "language_info": {
   "codemirror_mode": {
    "name": "ipython",
    "version": 3
   },
   "file_extension": ".py",
   "mimetype": "text/x-python",
   "name": "python",
   "nbconvert_exporter": "python",
   "pygments_lexer": "ipython3",
   "version": "3.12.2"
  }
 },
 "nbformat": 4,
 "nbformat_minor": 5
}
