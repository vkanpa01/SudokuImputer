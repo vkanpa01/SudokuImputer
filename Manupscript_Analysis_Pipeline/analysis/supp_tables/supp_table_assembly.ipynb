{
 "cells": [
  {
   "cell_type": "code",
   "execution_count": 120,
   "id": "0e0acb53-0cf6-4aa0-a8c5-1312fc5df500",
   "metadata": {},
   "outputs": [],
   "source": [
    "import pandas as pd\n",
    "import numpy as np\n",
    "import glob\n",
    "import os"
   ]
  },
  {
   "cell_type": "code",
   "execution_count": 122,
   "id": "e8899f4f-f52a-4ea3-859b-4dd3f2846f17",
   "metadata": {},
   "outputs": [],
   "source": [
    "rmse_files = glob.glob('s1*.csv')"
   ]
  },
  {
   "cell_type": "code",
   "execution_count": 289,
   "id": "aa8378e7-1ebd-4b8d-b233-f484200928cb",
   "metadata": {},
   "outputs": [],
   "source": [
    "mega_idx = ['knn_0.1', 'mice_0.1', 'mean_0.1', 'factorization_0.1', 'sudoku_0.1',\n",
    "       'median_0.1', 'missforest_0.1', 'softimpute_0.1', 'mean_0.2',\n",
    "       'softimpute_0.2', 'factorization_0.2', 'mice_0.2', 'knn_0.2',\n",
    "       'sudoku_0.2', 'median_0.2', 'missforest_0.2', 'sudoku_0.3',\n",
    "       'median_0.3', 'knn_0.3', 'mice_0.3', 'missforest_0.3', 'softimpute_0.3',\n",
    "       'factorization_0.3', 'mean_0.3', 'softimpute_0.4', 'mean_0.4',\n",
    "       'knn_0.4', 'factorization_0.4', 'mice_0.4', 'median_0.4',\n",
    "       'missforest_0.4', 'sudoku_0.4', 'knn_0.5', 'factorization_0.5',\n",
    "       'mean_0.5', 'median_0.5', 'missforest_0.5', 'softimpute_0.5',\n",
    "       'sudoku_0.5', 'mice_0.5']\n",
    "\n",
    "df_mega = pd.DataFrame(index=mega_idx)\n",
    "for file in rmse_files:\n",
    "    df = pd.read_csv(file)[['RMSE', 'Unnamed: 0', 'missingness_prop']]\n",
    "    df['idx'] = df['Unnamed: 0'] + '_' + df['missingness_prop'].astype(str)\n",
    "    df = df[['idx', 'RMSE']].set_index('idx').rename(columns={'RMSE' : 'RMSE_' + '_'.join(file.split('_')[1:3])})\n",
    "    df_mega = pd.merge(df_mega, df, left_index=True, right_index=True)\n",
    "\n",
    "df_mega = df_mega.reset_index()\n",
    "df_mega['algorithm'] = [i.split('_')[0] for i in df_mega['index']]\n",
    "df_mega['missingness_proportion'] = [i.split('_')[1] for i in df_mega['index']]\n",
    "df_mega = df_mega[['algorithm', 'missingness_proportion', 'RMSE_qsar_mnar', 'RMSE_qsar_mcar', 'RMSE_qsar_mar', 'RMSE_eeg_mnar', 'RMSE_eeg_mcar',\n",
    "         'RMSE_arcene_mar', 'RMSE_eeg_mar', 'RMSE_arcene_mcar', 'RMSE_arcene_mnar']]\n",
    "         "
   ]
  },
  {
   "cell_type": "code",
   "execution_count": 302,
   "id": "64e85ae7-09a9-467a-b1ce-3aad4616cb49",
   "metadata": {},
   "outputs": [],
   "source": [
    "df_mega.round(3).to_csv('s1_RMSE_PERFORMANCE.csv')"
   ]
  },
  {
   "cell_type": "code",
   "execution_count": 293,
   "id": "2f7f34d7-8c95-433a-a280-cc175c3a867c",
   "metadata": {},
   "outputs": [],
   "source": [
    "runtime_files = glob.glob('s2*.csv')"
   ]
  },
  {
   "cell_type": "code",
   "execution_count": 295,
   "id": "a9fac6c6-8246-48f2-852a-5b8d9c89c0ff",
   "metadata": {},
   "outputs": [],
   "source": [
    "runtime_idx = [0.1, 0.2, 0.3, 0.4, 0.5]\n",
    "\n",
    "df_runtime = pd.DataFrame(index=runtime_idx)\n",
    "for file in runtime_files:\n",
    "    df = pd.read_csv(file, index_col='MP')\n",
    "    df.columns = df.columns + '_' + file.split('_')[3] + '_' + file.split('_')[4][0:-4]\n",
    "    df = df\n",
    "    df_runtime = pd.merge(df_runtime, df, left_index=True, right_index=True)\n",
    "\n",
    "df_runtime = df_runtime.T.reset_index()\n",
    "df_runtime['algorithm'] = [i.split('_')[0] for i in df_runtime['index']]\n",
    "df_runtime['dataset'] = [i.split('_')[1] for i in df_runtime['index']]\n",
    "df_runtime['missingness'] = [i.split('_')[2] for i in df_runtime['index']]\n",
    "df_runtime = df_runtime[['algorithm', 'dataset', 'missingness', 0.1, 0.2, 0.3, 0.4, 0.5]]"
   ]
  },
  {
   "cell_type": "code",
   "execution_count": 304,
   "id": "c703994e-2685-42e2-9975-f0d31f551152",
   "metadata": {},
   "outputs": [],
   "source": [
    "df_runtime.round(3).to_csv('s2_RUNTIME_PERFORMANCE.csv')"
   ]
  }
 ],
 "metadata": {
  "kernelspec": {
   "display_name": "Python 3 (ipykernel)",
   "language": "python",
   "name": "python3"
  },
  "language_info": {
   "codemirror_mode": {
    "name": "ipython",
    "version": 3
   },
   "file_extension": ".py",
   "mimetype": "text/x-python",
   "name": "python",
   "nbconvert_exporter": "python",
   "pygments_lexer": "ipython3",
   "version": "3.12.2"
  }
 },
 "nbformat": 4,
 "nbformat_minor": 5
}
