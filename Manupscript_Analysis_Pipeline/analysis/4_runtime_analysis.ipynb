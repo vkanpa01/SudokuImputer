{
 "cells": [
  {
   "cell_type": "code",
   "execution_count": 1,
   "id": "f804451e-db24-469f-9294-a34f831ffc24",
   "metadata": {},
   "outputs": [],
   "source": [
    "import pandas as pd\n",
    "import numpy as np\n",
    "from sklearn.metrics import r2_score, mean_squared_error, mean_absolute_error\n",
    "from scipy.stats import pearsonr\n",
    "import glob\n",
    "import os\n",
    "\n",
    "os.chdir('/Users/vivekkanpa/Documents/UCD/sudoku-imputation/SUDOKU_BENCHMARK/')\n",
    "os.getcwd()\n",
    "\n",
    "missingness = 'mnar'\n",
    "dataset = 'eeg'"
   ]
  },
  {
   "cell_type": "code",
   "execution_count": 2,
   "id": "4d646d36-17c4-423b-aacd-747a905a1ac3",
   "metadata": {},
   "outputs": [],
   "source": [
    "sudoku_dir = f\"outputs/{missingness}/{dataset}\"\n",
    "sudoku_files = glob.glob(os.path.join(sudoku_dir, '*.txt'))\n",
    "\n",
    "benchmark_dir = f\"datasets/imputed_data/numerical/{dataset}/{missingness}/\"\n",
    "benchmark_files = glob.glob(os.path.join(benchmark_dir, '*.txt'))\n"
   ]
  },
  {
   "cell_type": "code",
   "execution_count": 3,
   "id": "20397b25-8cfe-4d8c-8f3d-4329953c5663",
   "metadata": {},
   "outputs": [
    {
     "data": {
      "text/plain": [
       "['outputs/mnar/eeg/execution_time_0.4.txt',\n",
       " 'outputs/mnar/eeg/execution_time_0.5.txt',\n",
       " 'outputs/mnar/eeg/execution_time_0.2.txt',\n",
       " 'outputs/mnar/eeg/execution_time_0.3.txt',\n",
       " 'outputs/mnar/eeg/execution_time_0.1.txt']"
      ]
     },
     "execution_count": 3,
     "metadata": {},
     "output_type": "execute_result"
    }
   ],
   "source": [
    "sudoku_files"
   ]
  },
  {
   "cell_type": "code",
   "execution_count": 4,
   "id": "c612b30f-8d2d-4bac-9c2a-34a8e2d32c5e",
   "metadata": {},
   "outputs": [],
   "source": [
    "def read_text_files_into_list(lo_files):\n",
    "    all_file_contents = dict()\n",
    "    \n",
    "    # Get all files in the directory\n",
    "    for filename in lo_files:\n",
    "        if filename.endswith(\".txt\"):  # Filter for text files\n",
    "            try:\n",
    "                with open(filename, 'r', encoding='utf-8') as file:\n",
    "                    content = file.read()\n",
    "                    if 'outputs' in filename:\n",
    "                        all_file_contents[filename.split('_')[-1][0:-4]] = float(content.split(' ')[0])\n",
    "                    else:\n",
    "                        all_file_contents[filename.split('/')[-1].split('_')[2]] = float(content.split(' ')[0])\n",
    "            except Exception as e:\n",
    "                print(f\"Error reading {filename}: {e}\")\n",
    "    return all_file_contents\n",
    "\n",
    "all_runtimes = {'sudoku' : read_text_files_into_list(sudoku_files)}"
   ]
  },
  {
   "cell_type": "code",
   "execution_count": 5,
   "id": "3c8e2df0-9f8a-4934-a288-3bd2a5b834eb",
   "metadata": {},
   "outputs": [],
   "source": [
    "# ['mean', 'matrix', 'knn', 'mice', 'softimpute', 'median']\n",
    "for model in list(set([file.split('.')[1][2:].split('_')[0] for file in benchmark_files])):\n",
    "    model_files = []\n",
    "    for bm_file in benchmark_files:\n",
    "        if model in bm_file:\n",
    "            model_files.append(bm_file)\n",
    "    all_runtimes[model] = read_text_files_into_list(model_files)"
   ]
  },
  {
   "cell_type": "code",
   "execution_count": null,
   "id": "3c67e2bb-2ff9-4896-bc8b-ac4bf0b77ce5",
   "metadata": {},
   "outputs": [],
   "source": []
  },
  {
   "cell_type": "code",
   "execution_count": 6,
   "id": "4944f694-38c0-43cb-8386-a5166d81321e",
   "metadata": {},
   "outputs": [
    {
     "data": {
      "text/html": [
       "<div>\n",
       "<style scoped>\n",
       "    .dataframe tbody tr th:only-of-type {\n",
       "        vertical-align: middle;\n",
       "    }\n",
       "\n",
       "    .dataframe tbody tr th {\n",
       "        vertical-align: top;\n",
       "    }\n",
       "\n",
       "    .dataframe thead th {\n",
       "        text-align: right;\n",
       "    }\n",
       "</style>\n",
       "<table border=\"1\" class=\"dataframe\">\n",
       "  <thead>\n",
       "    <tr style=\"text-align: right;\">\n",
       "      <th></th>\n",
       "      <th>sudoku</th>\n",
       "      <th>knn</th>\n",
       "      <th>mice</th>\n",
       "      <th>median</th>\n",
       "      <th>softimpute</th>\n",
       "      <th>matrix</th>\n",
       "      <th>mean</th>\n",
       "      <th>missforest</th>\n",
       "    </tr>\n",
       "    <tr>\n",
       "      <th>MP</th>\n",
       "      <th></th>\n",
       "      <th></th>\n",
       "      <th></th>\n",
       "      <th></th>\n",
       "      <th></th>\n",
       "      <th></th>\n",
       "      <th></th>\n",
       "      <th></th>\n",
       "    </tr>\n",
       "  </thead>\n",
       "  <tbody>\n",
       "    <tr>\n",
       "      <th>0.1</th>\n",
       "      <td>9.2386</td>\n",
       "      <td>1.7821</td>\n",
       "      <td>19.4223</td>\n",
       "      <td>0.0150</td>\n",
       "      <td>1.0435</td>\n",
       "      <td>0.3069</td>\n",
       "      <td>0.0033</td>\n",
       "      <td>149.7296</td>\n",
       "    </tr>\n",
       "    <tr>\n",
       "      <th>0.2</th>\n",
       "      <td>11.3148</td>\n",
       "      <td>3.3904</td>\n",
       "      <td>16.9727</td>\n",
       "      <td>0.0215</td>\n",
       "      <td>1.4483</td>\n",
       "      <td>0.1878</td>\n",
       "      <td>0.0029</td>\n",
       "      <td>177.7716</td>\n",
       "    </tr>\n",
       "    <tr>\n",
       "      <th>0.3</th>\n",
       "      <td>17.6142</td>\n",
       "      <td>5.9343</td>\n",
       "      <td>17.6931</td>\n",
       "      <td>0.0145</td>\n",
       "      <td>1.0067</td>\n",
       "      <td>0.0539</td>\n",
       "      <td>0.0031</td>\n",
       "      <td>97.4065</td>\n",
       "    </tr>\n",
       "    <tr>\n",
       "      <th>0.4</th>\n",
       "      <td>59.9883</td>\n",
       "      <td>7.6388</td>\n",
       "      <td>17.2905</td>\n",
       "      <td>0.0141</td>\n",
       "      <td>1.1704</td>\n",
       "      <td>0.3663</td>\n",
       "      <td>0.0030</td>\n",
       "      <td>97.3102</td>\n",
       "    </tr>\n",
       "    <tr>\n",
       "      <th>0.5</th>\n",
       "      <td>73.0872</td>\n",
       "      <td>6.1929</td>\n",
       "      <td>17.8392</td>\n",
       "      <td>0.0138</td>\n",
       "      <td>1.7625</td>\n",
       "      <td>0.0717</td>\n",
       "      <td>0.0030</td>\n",
       "      <td>96.9065</td>\n",
       "    </tr>\n",
       "  </tbody>\n",
       "</table>\n",
       "</div>"
      ],
      "text/plain": [
       "      sudoku     knn     mice  median  softimpute  matrix    mean  missforest\n",
       "MP                                                                           \n",
       "0.1   9.2386  1.7821  19.4223  0.0150      1.0435  0.3069  0.0033    149.7296\n",
       "0.2  11.3148  3.3904  16.9727  0.0215      1.4483  0.1878  0.0029    177.7716\n",
       "0.3  17.6142  5.9343  17.6931  0.0145      1.0067  0.0539  0.0031     97.4065\n",
       "0.4  59.9883  7.6388  17.2905  0.0141      1.1704  0.3663  0.0030     97.3102\n",
       "0.5  73.0872  6.1929  17.8392  0.0138      1.7625  0.0717  0.0030     96.9065"
      ]
     },
     "execution_count": 6,
     "metadata": {},
     "output_type": "execute_result"
    }
   ],
   "source": [
    "runtime_df = pd.DataFrame(all_runtimes).reset_index().sort_values(by='index').sort_values(by='index').rename(columns={'index':'MP'}).set_index('MP')\n",
    "runtime_df"
   ]
  },
  {
   "cell_type": "code",
   "execution_count": 3,
   "id": "708d58ae-3411-4680-932a-c7604f74c326",
   "metadata": {},
   "outputs": [
    {
     "ename": "NameError",
     "evalue": "name 'runtime_df' is not defined",
     "output_type": "error",
     "traceback": [
      "\u001b[0;31m---------------------------------------------------------------------------\u001b[0m",
      "\u001b[0;31mNameError\u001b[0m                                 Traceback (most recent call last)",
      "Cell \u001b[0;32mIn[3], line 1\u001b[0m\n\u001b[0;32m----> 1\u001b[0m runtime_df\u001b[38;5;241m.\u001b[39mto_csv(\u001b[38;5;124mf\u001b[39m\u001b[38;5;124m'\u001b[39m\u001b[38;5;124manalysis/supp_tables/s2_mean_runtime_\u001b[39m\u001b[38;5;132;01m{\u001b[39;00mdataset\u001b[38;5;132;01m}\u001b[39;00m\u001b[38;5;124m_\u001b[39m\u001b[38;5;132;01m{\u001b[39;00mmissingness\u001b[38;5;132;01m}\u001b[39;00m\u001b[38;5;124m.csv\u001b[39m\u001b[38;5;124m'\u001b[39m)\n",
      "\u001b[0;31mNameError\u001b[0m: name 'runtime_df' is not defined"
     ]
    }
   ],
   "source": [
    "runtime_df.to_csv(f'analysis/supp_tables/s2_mean_runtime_{dataset}_{missingness}.csv')"
   ]
  },
  {
   "cell_type": "code",
   "execution_count": 8,
   "id": "97df93ab-ebbf-4788-97cb-454b10d65496",
   "metadata": {},
   "outputs": [],
   "source": [
    "directory_path = f\"analysis/results_tables/runtime/{dataset}\"\n",
    "\n",
    "try:\n",
    "    os.makedirs(directory_path, exist_ok=True)\n",
    "except OSError as e:\n",
    "    print(f\"Error creating directory '{directory_path}': {e}\")\n",
    "\n",
    "runtime_df.to_csv(f'{directory_path}/{missingness}_runtime_table.csv')"
   ]
  }
 ],
 "metadata": {
  "kernelspec": {
   "display_name": "Python 3 (ipykernel)",
   "language": "python",
   "name": "python3"
  },
  "language_info": {
   "codemirror_mode": {
    "name": "ipython",
    "version": 3
   },
   "file_extension": ".py",
   "mimetype": "text/x-python",
   "name": "python",
   "nbconvert_exporter": "python",
   "pygments_lexer": "ipython3",
   "version": "3.12.2"
  }
 },
 "nbformat": 4,
 "nbformat_minor": 5
}
